{
 "cells": [
  {
   "cell_type": "code",
   "execution_count": 1,
   "metadata": {},
   "outputs": [],
   "source": [
    "import warnings\n",
    "warnings.filterwarnings('ignore')\n",
    "\n",
    "import numpy as np\n",
    "import pandas as pd\n",
    "\n",
    "import pickle\n",
    "from pathlib import Path\n",
    "import codecs\n",
    "import os\n",
    "\n",
    "import re, nltk, spacy, gensim\n",
    "\n",
    "nlp = spacy.load(\"en_core_web_sm\", disable=['parser', 'ner'])\n",
    "\n",
    "#Setup data directory variable for global use\n",
    "data_dir = Path.home() / \"Desktop\" / \"bah-intermediate\" / \"CAPSTONE\" / \"data\"\n",
    "test_data = Path.home() / \"Desktop\" / \"bah-intermediate\" / \"CAPSTONE\" / \"test_data\"\n",
    "viz_dir = Path.home() / \"Desktop\" / \"bah-intermediate\" / \"CAPSTONE\" / \"visualizations\"\n",
    "model_dir = Path.home() / \"Desktop\" / \"bah-intermediate\" / \"CAPSTONE\" / \"models\""
   ]
  },
  {
   "cell_type": "code",
   "execution_count": 2,
   "metadata": {},
   "outputs": [],
   "source": [
    "model = pickle.load(open(model_dir / \"optimal_fit_model_5topics_070321212952.pickle\", 'rb'))\n",
    "data_vectorized = pickle.load(open(model_dir / \"optimal_dtm_5topics_070321212952.pickle\", 'rb'))\n",
    "vectorizer = pickle.load(open(model_dir / \"optimal_vec_5topics_070321212952.pickle\", 'rb'))\n",
    "df_document_topic = pickle.load(open(model_dir / \"df_document_topic_070321212946.pickle\", 'rb'))\n",
    "df_topic_keywords = pickle.load(open(model_dir / \"df_topic_keywords_070321212946.pickle\", 'rb'))"
   ]
  },
  {
   "cell_type": "code",
   "execution_count": 3,
   "metadata": {},
   "outputs": [],
   "source": [
    "def get_text(file_path):\n",
    "    with codecs.open(file_path, 'r', encoding='utf-8', errors='ignore') as file:\n",
    "        text = file.read()\n",
    "            \n",
    "    return text"
   ]
  },
  {
   "cell_type": "code",
   "execution_count": 4,
   "metadata": {},
   "outputs": [],
   "source": [
    "#Process the text, takes 2 arguments: text and language; language defaults to english if none passed\n",
    "def process_text(text, allowed_postags=['NOUN', 'ADJ', 'VERB', 'ADV']):\n",
    "    text1 = re.sub(r'\\S*@\\S*\\s?', '', text)\n",
    "    #print(text1)\n",
    "    text2 = re.sub(r'\\s+', ' ', text1)\n",
    "    #print(text2)\n",
    "    text3 = re.sub(r\"\\'\", \"\", text2)\n",
    "    #print(text3)\n",
    "    \n",
    "    text4 = list(gensim.utils.simple_preprocess(str(text3), min_len=2, max_len=15, deacc=True))\n",
    "    \n",
    "    text5 = nlp(' '.join(text4))\n",
    "    \n",
    "    text_out = []\n",
    "    text_out.append(' '.join([token.lemma_ if token.lemma_ not in ['-PRON-'] else '' \n",
    "                              for token in text5 if token.pos_ in allowed_postags]))\n",
    "    \n",
    "    \n",
    "    return text_out "
   ]
  },
  {
   "cell_type": "code",
   "execution_count": 5,
   "metadata": {},
   "outputs": [
    {
     "data": {
      "text/plain": [
       "['air vice marshal rich maddison be senior raf officer decade fly experience air force be as high tech get be just be refer miniature computer black lime green screen miniscule memory use aa battery power design be psion device avm maddison represent personal aviation history date device be where keep own fly log hail era when computer come own programming language psion invite user tinker limited application take field address book convert resemble pilot logbook pilot record flight column list such detail date aircraft type crew name purpose flight route fly avm maddison be also issue physical logbook psion allow build automatic monthly summary flying hour be use tell how many hour d achieve particular aircraft colleague today raf use own advanced fly program compile datum lack personal bond avm maddison have psion m third physical logbook s get sign year get lot more psion psion image last month rich maddison psion aa battery only need replace couple month so do have worry recharge contemporary device internet connection pretty secure have travel globe often when s be charge puma helicopter old machine celebrate year raf service puma have be upgrade course just psion logbook open image puma rise fly away piece graphic art create very personal program have be pick other nato pilot year s happy iphone tablet admit psion feel brick compare smartphone little flash drive feed software be very practical while fly training norway avm maddison come pilot use even early version logbook program take flash drive give upgrade laugh presentational grey line more technology business be worth track carbon footprint hypercar maker be tell give dream global race produce hydrogen offshore carmaker aim become tech firm robotic dog learn point future presentational grey line psion hard keyboard be reason device be still do duty almost quarter century silas brown supervisor computer science cambridge university still use psion collect thought event be partially sighted so prefer typing real physical keyboard rather screen one world have switch be bluetooth keyboard be extra item juggle psion display large print have write software organise note have see wife search power point charge tablet computer academic conference aa battery power psion run week thought computer science expert resort such machine seem amusing dr brown point cambridge rich computer history when enter computer laboratory first thing see be old valve computer most student identify psion usually do know be say loyal owner see win combination practicality personality vintage device attraction be grow ebay report revival retro tech vintage computing item sell site minute zen stone music player image captionmore decade old zen stone music player be still good enough people alex be author technoutopia hard look silicon valley mindset book focus how limit addiction technology so m draw old device do mean people check screen message time say minimalist take tech see warren cling tiny year old device sole purpose be play music be creative zen stone mp player feed micro usb cable take music pc also charge only hold album pick album want play full tiny pocket sized version vinyl album player listen way rather jump around playlist do want distraction screen full stuff spotify temptation pop twitter nice be able carry music around be tether social medium phone full app diminutive companion be tough leave pocket survive washing machine cycle come unharmed shiny melodious durability be reason vintage device keep march also allow user shut mass social medium app sap concentration graeme patfield mini disc player image captiongraeme patfield say sony walkman serve tool mindfulness presentational white space graeme patfield communication consultant uks south coast find mental solace old tech be advocate musical purity date machine sony walkman have be play mini disc copy pc nearly year sound so much clean sharp else go age aa battery say rediscover lockdown find physical routine summon pleasing memory clunk hear spin when do mr patfield mini disc serve tool mindfulness movement call people settle consciousness moment sit focus task else take attention away clear mind come attractive price average cost vintage sound vision item sell be just create site call sustainable retro alternative brand new vintage tech be find future']"
      ]
     },
     "execution_count": 5,
     "metadata": {},
     "output_type": "execute_result"
    }
   ],
   "source": [
    "text = get_text('./test_data/test_article10.txt')\n",
    "text2 = process_text(text)\n",
    "\n",
    "text2"
   ]
  },
  {
   "cell_type": "code",
   "execution_count": 6,
   "metadata": {},
   "outputs": [],
   "source": [
    "text3 = vectorizer.transform(text2)"
   ]
  },
  {
   "cell_type": "code",
   "execution_count": 7,
   "metadata": {},
   "outputs": [],
   "source": [
    "# Step 4: LDA Transform\n",
    "topic_probability_scores = model.transform(text3)\n",
    "\n",
    "topic = df_topic_keywords.iloc[np.argmax(topic_probability_scores), 1:14].values.tolist()\n",
    "\n",
    "# Step 5: Infer Topic\n",
    "infer_topic = df_topic_keywords.iloc[np.argmax(topic_probability_scores), -1]"
   ]
  },
  {
   "cell_type": "code",
   "execution_count": 8,
   "metadata": {},
   "outputs": [
    {
     "data": {
      "text/plain": [
       "array([[0.01694044, 0.2369161 , 0.01680271, 0.01728291, 0.71205784]])"
      ]
     },
     "execution_count": 8,
     "metadata": {},
     "output_type": "execute_result"
    }
   ],
   "source": [
    "topic_probability_scores"
   ]
  },
  {
   "cell_type": "code",
   "execution_count": 9,
   "metadata": {},
   "outputs": [
    {
     "data": {
      "text/plain": [
       "'technology'"
      ]
     },
     "execution_count": 9,
     "metadata": {},
     "output_type": "execute_result"
    }
   ],
   "source": [
    "infer_topic"
   ]
  },
  {
   "cell_type": "code",
   "execution_count": 10,
   "metadata": {},
   "outputs": [
    {
     "data": {
      "text/plain": [
       "['mobile phone',\n",
       " 'chief executive',\n",
       " 'tell bbc',\n",
       " 'say would',\n",
       " 'bbc news',\n",
       " 'tell bbc news',\n",
       " 'camera phone',\n",
       " 'new york',\n",
       " 'news website',\n",
       " 'technology']"
      ]
     },
     "execution_count": 10,
     "metadata": {},
     "output_type": "execute_result"
    }
   ],
   "source": [
    "topic"
   ]
  },
  {
   "cell_type": "code",
   "execution_count": null,
   "metadata": {},
   "outputs": [],
   "source": [
    "df_document_topic.dominant_topic.value_counts()"
   ]
  },
  {
   "cell_type": "code",
   "execution_count": null,
   "metadata": {},
   "outputs": [],
   "source": []
  }
 ],
 "metadata": {
  "kernelspec": {
   "display_name": "Python 3",
   "language": "python",
   "name": "python3"
  },
  "language_info": {
   "codemirror_mode": {
    "name": "ipython",
    "version": 3
   },
   "file_extension": ".py",
   "mimetype": "text/x-python",
   "name": "python",
   "nbconvert_exporter": "python",
   "pygments_lexer": "ipython3",
   "version": "3.8.5"
  }
 },
 "nbformat": 4,
 "nbformat_minor": 4
}
