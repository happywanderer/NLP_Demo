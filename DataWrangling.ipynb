{
 "cells": [
  {
   "cell_type": "code",
   "execution_count": 1,
   "metadata": {},
   "outputs": [],
   "source": [
    "import fitz"
   ]
  },
  {
   "cell_type": "code",
   "execution_count": 2,
   "metadata": {},
   "outputs": [],
   "source": [
    "from pathlib import Path\n",
    "import pandas as pd"
   ]
  },
  {
   "cell_type": "code",
   "execution_count": 5,
   "metadata": {},
   "outputs": [],
   "source": [
    "data_dir = Path.home() / \"Desktop\" / \"bah-intermediate\" / \"CAPSTONE\" / \"data\""
   ]
  },
  {
   "cell_type": "code",
   "execution_count": 6,
   "metadata": {},
   "outputs": [
    {
     "data": {
      "text/plain": [
       "WindowsPath('C:/Users/593379/Desktop/bah-intermediate/CAPSTONE/data')"
      ]
     },
     "execution_count": 6,
     "metadata": {},
     "output_type": "execute_result"
    }
   ],
   "source": [
    "data_dir"
   ]
  },
  {
   "cell_type": "code",
   "execution_count": 16,
   "metadata": {},
   "outputs": [],
   "source": [
    "def get_text(files):\n",
    "    text_list = []\n",
    "    for file in files:\n",
    "        with fitz.open(file) as doc:\n",
    "            text = \"\"\n",
    "            for page in doc:\n",
    "                text += page.getText().strip()\n",
    "        text_list.append(text)\n",
    "    return(text_list)"
   ]
  },
  {
   "cell_type": "code",
   "execution_count": 8,
   "metadata": {},
   "outputs": [],
   "source": [
    "out = get_text(data_dir / \"Magazine Documents_2015_October 2015_1015classics.pdf\")"
   ]
  },
  {
   "cell_type": "code",
   "execution_count": 10,
   "metadata": {},
   "outputs": [
    {
     "name": "stdout",
     "output_type": "stream",
     "text": [
      "USAF’s air demonstration team, the Thunderbirds, flies F-16s.\n",
      "The F-16 Fighting Falcon rates as one of the world’s \n",
      "premier military aircraft. The lightweight, single-\n",
      "engine, supersonic, and highly maneuverable fighter, \n",
      "with its cropped-delta planform, became a multirole \n",
      "workhorse of the US Air Force in the 1980s and of \n",
      "some two dozen other air arms since. General Dy-\n",
      "namics designed it to be low cost, easy to maintain, \n",
      "and adaptable to many missions and technologies. \n",
      "It has compiled a sturdy combat record.\n",
      "The F-16 emerged from the Lightweight Fighter \n",
      "program of the 1970s, promoted by air-combat \n",
      "iconoclast Col. John Boyd. The fighter had electronic \n",
      "“fly-by-wire” flight controls. Light weight and a \n",
      "powerful engine produced exceptional quickness \n",
      "and agility. Designers provided a frameless bubble \n",
      "canopy, giving unobstructed forward and upward \n",
      "views. Its relatively low sticker price and operational \n",
      "costs made it attractive to world air forces. Many \n",
      "F-16s have been built jointly by the US and four \n",
      "NATO members: Belgium, Denmark, the Netherlands, \n",
      "and Norway.\n",
      "Israel was the first to use the F-16 in both air-to-air \n",
      "combat (April 28, 1981, over Lebanon) and in air-to-\n",
      "ground combat (June 7, 1981, raid on Iraq’s Osirak \n",
      "nuclear site). In the Gulf War, USAF F-16s flew the \n",
      "lion’s share of attack sorties, striking Iraqi airfields, \n",
      "army facilities, Scud sites, and more. F-16s followed \n",
      "up in Northern and Southern Watch and Allied Force \n",
      "in 1999, suppressing enemy air defenses and flying \n",
      "both counterair and close air support missions. In \n",
      "Afghanistan and Iraq, plus interventions in Libya and \n",
      "Syria, the F-16 contribution was extensive.  \n",
      "                —Robert S. Dudney with Walter J. Boyne\n",
      "In Brief\n",
      "Designed, built by General Dynamics (now Lockheed Martin) e first \n",
      "flight Jan. 20, 1974 e number built 4,540+ e crew of one or two e one \n",
      "F110-GE-100 turbofan engine or Pratt & Whitney F100-PW-200/220/229 \n",
      "turbofan engine. Specific to F-16C: defensive armament, one 20 mm \n",
      "Vulcan cannon; up to six AIM-9 Sidewinder, AIM-120 AMRAAM, or \n",
      "combination e external load, up to 12,000 lb of bombs and munitions, \n",
      "including Maverick, HARM, JASSM, JDAM, nuclear weapons e max speed \n",
      "1,320+ mph e cruise speed approx 550 mph e max combat radius 575 \n",
      "mi e weight (loaded) 37,500 lb e span 32 ft 10 in e length 49 ft 4 in e \n",
      "height 16 ft 8 in e service ceiling 50,000+ ft.\n",
      "Famous Fliers\n",
      "Air Force Cross: William Andrews. Silver Star: Burt Bartley, Sonny Blink-\n",
      "insop, Carl Bradshaw, Julian Chesnutt, Cary Culbertson, Guy Dahlbeck, \n",
      "Steve Giovenella, Adam Kavlick, Jay Lindell, William Thomas Jr. Mackay \n",
      "Trophy: Charles Moore, Stephen Williams, Lawrence Sullivan, Kristopher \n",
      "Struve. USAF Notables: Gary North (first USAF kill), Robert Wright (three \n",
      "kills, one mission), Nicole Malachowski (first woman Thunderbirds pilot), \n",
      "Dan Hampton (four DFCs), Mike Brill (6,000 hours). Other USAF Notables: \n",
      "Chuck Wald, Chuck Yeager. Israeli Notables: Amir Nachumi (F-16 ace), \n",
      "“Lieutenant Rafi” first F-16 kill, Zeev Raz, Amos Yadlin, Dobbi Yaffe, Hagai \n",
      "Katz, Iftach Spector, Relik Shafir, Ilan Ramon (Osirak raid). Other Foreign \n",
      "Notables: Peter Tankink (first post-WWII Royal Netherlands AF kill). Test \n",
      "pilots: Phil Oestricher, Neil Anderson. \n",
      "Interesting Facts\n",
      "Nicknamed “Viper” e won 1975 Collier Trophy e succeeded the F-4 “Wild \n",
      "Weasel” as a SEAD platform e in hands of Israeli pilots, downed 44 Syrian \n",
      "fighters (no losses) in 1982 Bekaa Valley War e featured in films “Iron Eagle” \n",
      "(1986) and “The Sum of All Fears” (2002) e can perform 9G turn with full fuel \n",
      "load e flown by Thunderbirds e equips 25 foreign air arms e built to be aero-\n",
      "dynamically unstable, and thus agile e used by Navy in aggressor role e has \n",
      "thrust-to-weight ratio greater than one, meaning it can accelerate vertically.\n",
      "This aircraft: USAF F-16C Fighting Falcon—#87-0243—as it looked in August 2015 when assigned to the 121st \n",
      "Fighter Squadron, District of Columbia ANG, JB Andrews, Md.\n",
      "USAF photo by  SSgt. Larry E. Reid Jr.\n",
      "76\n",
      "AIR FORCE Magazine / October 2015\n",
      "F-16 Fighting Falcon\n"
     ]
    }
   ],
   "source": [
    "print(out)"
   ]
  },
  {
   "cell_type": "code",
   "execution_count": 11,
   "metadata": {},
   "outputs": [],
   "source": [
    "import glob"
   ]
  },
  {
   "cell_type": "code",
   "execution_count": 15,
   "metadata": {},
   "outputs": [],
   "source": [
    "path = data_dir / \".pdf\"\n",
    "files = glob.glob('./data/*.pdf')"
   ]
  },
  {
   "cell_type": "code",
   "execution_count": 17,
   "metadata": {},
   "outputs": [
    {
     "data": {
      "text/plain": [
       "'Photo by Jim Haseltine\\nNew Life for \\nOld Fighters\\nThe A-10, F-15, and F-16 will be in the \\ninventory for years, and the Air Force \\nwill make the most of them.  \\nBy John A. Tirpak, Executive Editor\\nAIR FORCE Magazine / February 2011\\n28Two F-16s pass near the Grand Canyon on a training mission from Luke AFB, Ariz. \\nHow long the F-16—already five years beyond its original planned retirement date—\\nwill last is an important question USAF is attempting to answer.\\n29\\nAIR FORCE Magazine / February 2011oon, in a factory at Fort \\nWorth, Tex., an F-16—a \\nveteran of years of ser-\\nvice—will be slowly tor-\\ntured to death. Suspended \\nin a test rig known to engineers as “the \\nrack,” the Block 50 Fighting Falcon \\nwill be punished with metal bars in-\\ncessantly pushing up and down on its \\nwings, while its fuselage and control \\nsurfaces are twisted, bent, pulled, \\nand struck. After many months of \\nsuch abuse, something important will \\nbreak, and engineers should have the \\nanswer to a question that the whole \\nUSAF fighter force hinges on: How \\nlong will the F-16 last?\\nThe torture process, known officially \\nas the full-scale durability test, will \\ndiscover if the F-16 fleet, already five \\nyears beyond its originally planned \\nretirement date, can serve well into \\nthe 2020s. The Air Force is betting \\nit can, and is preparing a series of \\nupgrades intended to keep the Falcon \\ncredible and capable right up until it \\nis withdrawn from service.\\nA similar fate awaits an F-15C \\nand, later, an F-15E, which will both \\nundergo full-scale fatigue testing (dif-\\nferent name, same process) at Wright-\\nPatterson AFB, Ohio. A comparable \\nA-10 stress test is already under way. \\nThe predicted longevity of these fight-\\ners will significantly shape USAF’s \\nchoices in the next couple of years.\\nPlanning the golden years of the Air \\nForce’s legacy fighter fleet has taken on \\ngreat urgency, given the new realities of \\nfighter modernization. Production of the \\nF-22, which was to have completely \\nreplaced the F-15, was capped at 187 \\naircraft. The F-16’s replacement, the \\nF-35, has seen schedule delays and \\ncost jumps that have made it a target of \\nvarious panels and think tanks offering \\ndeficit-cutting advice. Although the Air \\nForce and Pentagon strongly back the \\nfighter, budget pressures or test delays \\ncould further stretch out deliveries.  \\nThe Government Accountability Of-\\nfice, in a summer 2010 audit, said that \\neven if the Air Force is able to buy F-35s \\nat the rate of 80 per year—which the \\nGAO found dubious at best—the service \\nwill fall further and further short of the \\n2,000 fighters necessary to fulfill the \\nnational military strategy. That means \\nsome of the old fighters will have to be \\nkept in service simply to keep the Air \\nForce in business.\\nBesides the F-15C, F-15E, and F-16s \\nof various block numbers, the Air Force \\nwill also hold onto hundreds of A-10 \\nattack aircraft, made in the 1970s and \\n1980s, for at least another 20 years.\\nTwo A-10s fly a two-ship formation during training at Moody AFB, Ga. The Air Force \\nplans on holding on to hundreds of A-10s produced in the 1970s and 1980s for at \\nleast another 20 years.\\nUSAF photo by A1C Benjamin Wiseman\\nLockheed Martin photo\\nTwo early F-16s undergo full-scale \\ndurability tests at a Lockheed Martin \\nfacility in Fort Worth, Tex. When some-\\nthing important finally breaks, USAF will \\nhave vital information about upgrades \\nnecesssary to keep the F-16 flying.\\nS\\nAIR FORCE Magazine / February 2011\\n30“Should the F-35 not deliver on \\nthe anticipated schedule, … there are \\npotential work-arounds,” said Gen. \\nNorton A. Schwartz, Chief of Staff of \\nthe Air Force.\\nSpeaking with defense reporters in \\nNovember, Schwartz said, “Certainly \\nwe will look at sustaining F-16 air-\\ncraft—principally Block 40 and Block \\n50 aircraft—perhaps a bit longer than \\nwe had originally planned.” There would \\nbe structural modifications as well as \\navionics improvements, to include new, \\nadvanced radars, he said.\\nHe emphasized that the Air Force is \\n“fully committed” to buying the F-35A, \\nthe progress of which has been “the best \\nof the lot” compared with the Marine \\nCorps F-35B and Navy F-35C versions \\nin flight test.\\nHowever, “you have to hit the ball \\nwhere it lays, and if the airplanes aren’t \\nready to put on the ramp, we’ll work al-\\nternatives. … We’ll do what’s required.”\\nSchwartz said that in the Fiscal \\n2012 budget, a “fighter force structure \\nstrategy” document would accompany \\ninformation about the F-35’s progress.\\nThe Air Force is trying to find the right \\nbalance in deciding how to fill out its \\nfighter inventory, said Maj. Gen. Thomas \\nK. Andersen, Air Combat Command’s \\ndirector of requirements.\\n“We do have that struggle: Do you \\ntrade off capacity for capability?” he \\nsaid. On the one hand, the Air Force \\nmust have enough aircraft to go around \\nto meet field commander needs, which \\nis capacity. On the other, the fighters \\nmust have technology relevant against \\nadversaries with increasingly advanced \\naircraft—capability.\\n“Those are things that we try to inform \\nevery day,” Andersen said.\\nThe Air Force’s “wish list” for im-\\nproving its legacy fighters is specific \\nto every aircraft, but some items are \\ndeemed essential to all. \\nTo remain credible against modern, \\ngeneration 4.5+ fighters, both the F-15 \\nand the F-16 will need active electroni-\\ncally scanned array radars, better known \\nas AESAs. The benefits of such radars \\nare many. They can perform several \\ndifferent functions simultaneously, from \\nsearching the air for enemies to do-\\ning ground-mapping and detection of \\nmoving surface vehicles. Because the \\nradar can rapidly hop frequencies, its \\nemissions are less detectable and this \\nimproves aircraft survivability.\\nSolid-state digital systems, AESAs \\nhave very high reliability. In fact, once \\ninstalled, AESAs have a mean time \\nbetween failure rate rivaling the life \\nexpectancy of the aircraft itself. So \\nreliable are they—and so able to de-\\ngrade gracefully even if some parts go \\nbad—that the aircraft radome could \\npotentially be sealed shut. The virtual \\nelimination of service requirements on \\nradars would dramatically reduce the \\nman-hours needed for maintenance of \\nfighters while dramatically enhancing \\ntheir capability.\\nBig Incentives\\n“There’s a lot of great [radar] tech-\\nnology we’ve been working on with \\nthe F-22 and F-35,” Andersen noted. \\n“We’d love to pull some of that ca-\\npability into an AESA radar for the \\nF-16.” He said, “We’ve paid for that \\nnonrecurring engineering” on AESA \\nradars for the fifth generation fighters, \\nand there are “a couple of offerings out \\nthere that are relatively inexpensive.” \\nAnother improvement becoming more \\ncommon in the fleet is helmet mounted \\ncuing systems. These devices enable \\nfighter pilots to simply look in the di-\\nrection of a target and in so doing, tell \\na missile where to go once it leaves the \\nlaunch rail. The system relieves the pilot \\nof having to point his aircraft directly at \\nan enemy fighter before firing, a valuable \\nasset in a dogfight.\\nTo deal with stealthy targets, the \\nAir Force will likely put infrared \\nsearch-and-track (IRST) devices on \\nits fighters, so the aircraft can see the \\nfaint heat plumes of engines even when \\na target has reduced radar reflectivity.\\nBeyond sensors and targeting systems, \\nthe legacy fleet will need upgrades to its \\nsuite of electronic warfare equipment, \\nas well as new air-to-air weapons that \\ncan target enemies at greater distances, \\nare less prone to spoofing, and are more \\nagile. The Air Force is counting on the \\nlatest version of the Advanced Medium-\\nRange Air-to-Air Missile, or AMRAAM, \\ncalled the AIM-120D, for its future air \\nsuperiority missile. For ground attack, \\nfighters will need smaller munitions that \\ncan inflict extremely precise damage and \\ndestroy only what they’re supposed to. \\nThe Small Diameter Bomb Increments \\n1 and 2 are the principal munitions in \\nthis latter category.\\nThere’s a big incentive to fix up the \\nolder airplanes until new generation \\naircraft can be fielded. Schwartz has \\nconsistently and categorically said the \\nAir Force will not spend scarce fighter \\ndollars to buy new versions of older \\naircraft—i.e., to buy new-build F-15s \\nand F-16s. The Air Force would rather \\nstretch its existing equipment and wait \\nfor cutting-edge airplanes than buy new \\nairplanes with 40 years of service life \\nbut only 10 years of survivability. \\nThe GAO, in its summer 2010 report \\non fighter forces in all the services, \\nsaid, “Recently, the Air Force provided \\nCongress with a report titled ‘Procure-\\nment of 4.5 Generation Fighter Aircraft,’ \\nwhich concluded that modernizing and \\nextending the service life of current \\nfighters would provide essentially the \\nsame capability of new 4.5 genera-\\ntion fighters at 10 to 15 percent of the \\ncost.” The estimate was based on buy-\\ning 300 new aircraft of the F-16 Block \\n50+, F-15E+, or F/A-18E/F vintage or \\nperforming a service life extension on \\nCapt. Jim Parslow inspects a weapons carriage on an F-15E loaded with a GBU-39B \\nSmall Diameter Bomb. F-15Cs and, later, Es also will undergo full-scale durability \\ntests at Wright-Patterson AFB, Ohio.\\nUSAF photo by SrA. Ricky Best\\nAIR FORCE Magazine / February 2011\\n32a similar number of existing airplanes. \\nThe Air Force looked at doing structural \\nimprovements only, or structural and \\ncapability enhancements combined.\\nThe estimates, however, don’t have the \\nbenefit of the fatigue testing to be done \\non the F-16, F-15C, and F-15E. While \\nthe Air Force thinks it has a pretty good \\nidea how long the airframes can last, \\nthere could be considerable surprises \\nin the destructive testing that radically \\nalter estimates.\\nHowever, Andersen doesn’t think that \\nwill be the case. For the past few years, \\nUSAF has been monitoring fighters by \\ntail number, keeping track not only of \\nhow many hours they have flown, but \\nwhat kind of hours: An hour spent fer-\\nrying across the ocean is very different \\nfrom an hour of hard-turning air combat \\nmaneuvering. This effort is known as the \\nAircraft Structural Integrity Program, or \\nASIP. Besides the severity of missions \\nflown, basing has a lot to do with aircraft \\nlongevity. Andersen noted that aircraft \\noperated for years in the dry Southwest \\nhave more potential life than those flown \\nin humid, salty conditions. \\n“If you take the ASIP … and you put \\nit together with the full-scale durability \\ntesting, we’re going to have a pretty \\ngood idea of what the life of the F-16 \\nis going to be,” he said.\\nThe “pre-blocks” of F-16s, he said—\\nthose early vintage Block 25s and \\n30s—will be allowed to age out of the \\ninventory when they reach about “10,800 \\nequivalent flying hours.” They were \\noriginally specified for 8,000 hours.\\nFor the long term, he said, the Air \\nForce is concentrating on the Block 40s, \\n42s, 50s, and 52s.  All these aircraft have \\ncompleted the Common Configuration \\nImplementation Program, or CCIP, \\nwhich largely standardized F-16s with \\na similar cockpit configuration, soft-\\nware, modular mission computer, helmet \\nmounted cuing systems, and the Link \\n16 data link.\\nIn addition to the AESA radar up-\\ngrade, F-16s would get new weapons: \\nthe AIM-120D, Small Diameter Bomb \\nIncrements 1 and 2, and potential future \\nweapons such as the Joint Dual-Role \\nAir Dominance Missile, or JDRADM.\\nLearning From Failure\\nThe durability test will be done on a \\nBlock 50 considered to be representative \\nof what the fleet has typically endured. It \\nwill be stressed to an equivalent of 24,000 \\nhours of flying, assuming it doesn’t \\nsuffer a fundamental failure before that \\npoint. The Air Force traditionally tests \\nto double the anticipated usage of the \\nairplane, so if the test article achieves \\n24,000 hours without a major structural \\nfailure, USAF believes it can get 12,000 \\nflying hours out of line aircraft, Andersen \\nexplained.\\n“We’re fairly confident” of the 12,000-\\nhour number, Andersen said. “So if you \\nlook at those numbers conservatively, \\nthat’s about another perhaps seven to \\neight years of service life” on the Block \\n40s to 52s. That would be on top of the \\nadditional years of life “bought” by \\nmonitoring the aircraft individually.\\nThe Air Force has already per-\\nformed a structural improvement on \\nsome F-16s called Falcon STAR, but \\nthis was intended to get them to their \\noriginally planned service lives. The \\nF-16s, which saw extensive combat \\nfrom Desert Storm in 1991 to today, \\nwere used harder and carried heavier \\nloads than first expected; this caused \\nstress fatigue in some components \\nand cracks in some bulkheads. Falcon \\nSTAR—for Structure Augmentation \\nRoadmap—was not meant to be a ser-\\nvice life extension program, or SLEP.\\nWithout a SLEP, ACC thinks that “a \\nsmall number” of F-16s could make it to \\n2030, but most will be “gone by 2025.” \\nWith a SLEP—which would reinforce \\nor replace bulkheads, some spars, and \\nadd maintainability improvements over-\\nall—an F-16 fleet of about 300 airplanes \\ncould make it “to about 2030 to 2035,” \\nAndersen said.\\nOne thing that likely wouldn’t feature \\nin an F-16 upgrade is the set of overwing, \\nconformal fuel tanks that distinguish \\nlate-model F-16 Block 52s and 60s be-\\ning sold overseas today.\\n“As of right now, we don’t have a \\nrequirement for it,” Andersen said.\\nLt. Gen. Philip M. Breedlove told \\nreporters in November the Air Force is \\ngoing to look at the F-16 fleet “almost \\non a tail-by-tail basis to determine how \\nSrA. Rebeca Hill (top) and SrA. Christopher Jaeger work on an F-16 at JB Balad, \\nIraq. The F-16’s planned replacement, the F-35, has fallen prey to schedule delays.\\nA GBU-39B Small Diameter Bomb strikes a rocket launcher during tests at White \\nSands Missile Range, N.M. SDB Increments 1 and 2 are being integrated into the \\nF-16 fleet.\\nDOD photo by SrA. Julianne Showalter\\nUSAF photo\\nAIR FORCE Magazine / February 2011\\n33many and what type” it needs to SLEP. \\nBut “we have to address a threat that \\ncontinues to become more and more \\ncapable,” said Breedlove, deputy chief \\nof staff for operations, plans, and re-\\nquirements. \\nA fatigue test was ordered for the F-\\n15C after an Air National Guard Eagle \\nbroke in half during a practice dogfight in \\n2007, leading to a months-long ground-\\ning of the F-15C/D fleet. The problem \\nwas a failure of longerons expected to last \\nthe life of the airplane, but the F-15 has \\nserved well beyond its planned lifetime. \\nA series of inspections and some repairs \\ncleared the fleet to return to duty, but the \\ntest is considered essential in getting the \\nfull story of what F-15 maintainers can \\nexpect as the aircraft continues to age.\\nThe Air Force plans to retain 176 F-\\n15Cs. Only two units—one at Kadena \\nAB, Japan, and one at RAF Lakenheath \\nin Britain—will serve with the active \\nduty. Some 54 F-15Cs are on contract \\nto be fitted with an AESA radar, and \\nall F-15Cs are now fitted with the Joint \\nHelmet Mounted Cuing System. The F-\\n15Cs will also receive an IRST system \\nto detect stealthy targets.\\nThe F-15 fatigue test is “on contract,” \\nAndersen said but lags the F-16 test by \\n“about a year and a half.” It is planned \\nto run from Fiscal 2012 to 2015. As-\\nsuming no big surprises show up in \\nthe test, “we could keep them well past \\n2025, into about the 2030 time frame,” \\nAndersen said. \\nLikewise, the Air Force has decided to \\ndo a stress test on an F-15E Strike Eagle. \\nIt will begin about a year after the F-15C \\ntest gets under way. A specific aircraft \\nto undergo the test hasn’t been chosen \\nyet, but one will have to be sacrificed. \\nUnlike the F-15Cs, which will phase \\nout in the next 15 to 20 years, the E fleet \\nis expected to serve another 25 years or \\nmore. The aircraft was built later, with \\ntougher, heavier load-bearing structures \\nin order to carry a heavy attack weapons \\nload. That, and expected use of lighter \\nordnance, should mean the Strike Eagles \\ncan make it into the late 2030s. \\nNo Blanket Upgrade\\nLike the F-15C, Andersen said the \\nE models will get an AESA radar—the \\nAPG-82—plus all the other enhance-\\nments. Right now, helmet mounted sights \\nare only funded for the front seat of the \\ntwo-seat airplane, but ACC wants to fit \\nbackseaters with the JHMCS as well.\\nThe A-10 fleet is in the midst of a \\nbillion-dollar upgrade in which the \\naircraft that USAF will retain are \\ngetting new wings. At the same time, \\nthese aircraft are receiving the preci-\\nsion engagement package, giving the \\nairplane new displays and a digital \\nbackbone to allow it to carry most \\nof the most modern munitions in the \\ninventory. About the only air-to-ground \\nweapons the A-10 will not use are \\nSmall Diameter Bombs. \\nThe new wings and structural im-\\nprovements will boost the A-10’s \\nlife expectancy from 16,000 hours to \\n20,000 hours, buying it a place in the \\ninventory until about 2035. The GAO \\nreported that ACC thinks a helmet \\nmounted cuing system is the “No. 1” \\nupgrade needed to make the A-10 more \\neffective, on top of the improvements \\nalready in the pipeline. Software de-\\nvelopment also is a key requirement \\nfor the A-10.\\nFunding will be a critical issue affect-\\ning upgrades of any kind. The Air Force \\nsharply reduced its fighter inventory \\nin the last two years, under what was \\ncalled the Combat Air Forces Reduc-\\ntion, or CAF Redux. This saw some \\n250 fighters retired early, the savings \\nmeant to be plowed back into fighter \\nforce modernization. No F-15Es went \\naway as a result of the CAF Redux, \\nhowever.\\n“We didn’t touch the E fleet,” An-\\ndersen said, “basically, because it has \\nunique capability.” In addition to its \\nground-attack role, the F-15E will also \\nbe fitted with the AIM-120D, “so it will \\nhave air-to-air capability. … It will be \\na multirole aircraft,” Andersen noted.\\nHowever, Marine Corps Gen. James \\nE. Cartwright, vice chairman of the \\nJoint Chiefs of Staff, said in December \\nthat he feared budget-cutting pressure \\nwould steal away some of the savings \\ngenerated by moves such as the CAF \\nRedux and a Pentagon-wide initiative \\nto save $100 billion over five years by \\nreducing overhead.\\nIn November, ACC Commander \\nGen. William M. Fraser III said the \\nmoney issue could mean that only \\nselective parts of the fighter force \\nget modified.\\n“If I have aircraft that are princi-\\npally back here flying air sovereignty \\nalert, they do not need to be exactly \\nthe same as our F-16 Block 40s and \\n50s,” Fraser said, because the ASA \\nmission is typically more benign than \\nthe ground-attack missions over hos-\\ntile territory that the rest of the F-16s \\nwould have to be able to do.\\nBreedlove echoed Fraser, saying, \\n“What we are not going to do, I am \\nrelatively sure,” is create a blanket up-\\ngrade program for every F-16. “That’s \\nnot what we need,” Breedlove said. \\nSome aircraft, with missions such as \\nOperation Noble Eagle, require cer-\\ntain kinds of capability; other aircraft \\nfacing “the more challenging digital \\nthreats that are out there in the world \\nmay need a different kind of capabil-\\nity, and that’s the analysis that we’ve \\nembarked on.”\\nThe Air Force is working closely \\nwith the Air National Guard and Air \\nForce Reserve on upgrade programs \\nbecause USAF recognizes that the \\nreserve components’ F-16s are aging \\nout and that its equipment must be \\ncomparable to that in the active force.\\n“We all want to get this right, be-\\ncause, as you know, the iron moves \\nback and forth—some down to the \\nGuard and Reserve and even in some \\ncases from them to the active duty,” \\nBreedlove said. “So we have to make \\nsure that we have the right capabili-\\nties in each.” \\nn\\nAn F-15E takes to the air. No F-15Es have been retired, and the aircraft will be fitted \\nwith the AIM-120D air-to-air missile.\\nPhoto by Clive Bennett\\nAIR FORCE Magazine / February 2011\\n34'"
      ]
     },
     "execution_count": 17,
     "metadata": {},
     "output_type": "execute_result"
    }
   ],
   "source": [
    "text_out = get_text(files)\n",
    "text_out[0]"
   ]
  },
  {
   "cell_type": "code",
   "execution_count": 18,
   "metadata": {},
   "outputs": [
    {
     "data": {
      "text/plain": [
       "'Blue Angel Hornets fly in formation at an air show in 2014.\\nThe F/A-18 fighter/attack aircraft is the dominant \\ntactical system of the sea services. The term “F/A-\\n18” actually applies to two different aircraft—the \\noriginal Hornet (A/B/C/D models) and a far larger \\nand more-capable derivative, Super Hornet (E/\\nFs). Both Boeing fighters are in service in the \\nNavy and Marine Corps, on carriers and ashore.\\nThe original twin-engine, supersonic, multirole \\nHornet is a redesign of the lightweight Northrop \\nYF-17 of the 1970s, intended for both air combat \\nand attack. It is maneuverable and versatile, \\ncapable of carrying a wide array of ordnance, \\nthough limited in range. It is easy to maintain. \\nHornet replaced A-4s, A-6s, and A-7s and first \\nsaw combat in 1986 in Libya. It has taken part \\nin virtually all US operations since then.\\nThe Hornet was the baseline for the F/A-18E/F \\nSuper Hornet, unveiled in the 1990s. Super \\nHornet is 25 percent larger, carries more fuel \\nand weapons, has more powerful GE engines, \\nand sports upgraded avionics—essentially, a \\ndifferent airplane. Naval aviators informally call \\nit “Rhino” to differentiate it from legacy Hornets \\nand avoid call-sign confusion. It supplanted the \\nF-14, A-6, S-3, and KA-6D aircraft types. (An \\nF/A-18G variant will replace the EA-6B.) Its first \\ncombat occurred in 2002 over Iraq. \\n                —Robert S. Dudney with Walter J. Boyne\\nIn Brief\\nBuilt by McDonnell Douglas, Boeing, Northrop e first flight Nov. 18, \\n1978 (Hornet) and Nov. 29, 1995 (Super Hornet) e number built 1,980 \\n(1,480 Hornet, plus 500 Super Hornet) e crew of one or two e defensive \\narmament (typical) one 20 mm cannon and four AIM-9, plus two AIM-120 \\nair-to-air missiles e max speed 1,190 mph e cruise speed 777 mph e \\ncombat radius ~460 mi e ceiling 50,000 ft. Specific to Hornet: two F404-\\nGE-402 turbofans e load 13,700 lb. of bombs, missiles, rockets e weight \\n(loaded) 51,900 lb e span 40 ft 5 in elength 56 ft e height 15 ft 4 in. \\nSpecific to Super Hornet: two F414-GE-400 turbofans e load up to 17,750 \\nlb of bombs, rockets, missiles e weight (loaded) 66,000 lb e span 44 ft 8 \\nin e length 60 ft 1 in e height 16 ft.\\nFamous Fliers\\nUS Navy Notables: Mark Fox and Nick Mongilio (first Hornet victories, Gulf \\nWar), Scott Speicher, Robert Dwyer (KIA in Gulf War), John Turner (first \\nSuper Hornet combat, 2002). Test pilots: John Padgett (first Navy pilot to \\nfly Hornet).\\nInteresting Facts\\nStarted out with two designations: the F-18 and A-18 e can drop B61 \\nnuclear bomb e flown by Blue Angels since 1986 e initially opposed by \\nVice Adm. William Houser, Navy’s highest ranking aviator e has engines \\nthat can be removed in 20 minutes e flown by Navy test pilots instead \\nof civilians in early development e featured in Hollywood films “A Few \\nGood Men” (1992), “Under Siege” (1992), “Clear and Present Danger” \\n(1994), “Independence Day” (1996), “Behind Enemy Lines” (2001),  \\n“The Sum of All Fears” (2002), “Tears of the Sun” (2003), “The Dark \\nKnight Rises” (2012) e operated by Australia, Canada, Finland, Kuwait, \\nMalaysia, Spain, and Switzerland.\\nThis aircraft: US Navy F/A-18A Hornet—BuNo 162832—as it appeared in 1998 when serving as an \\n“adversary” at the Naval Strike and Air Warfare Center, NAS Fallon, Nev.\\nDOD photo\\n76\\nAIR FORCE Magazine / June 2015\\nF/A-18 Hornet'"
      ]
     },
     "execution_count": 18,
     "metadata": {},
     "output_type": "execute_result"
    }
   ],
   "source": [
    "text_out[1]"
   ]
  },
  {
   "cell_type": "code",
   "execution_count": 19,
   "metadata": {},
   "outputs": [
    {
     "data": {
      "text/plain": [
       "10"
      ]
     },
     "execution_count": 19,
     "metadata": {},
     "output_type": "execute_result"
    }
   ],
   "source": [
    "len(text_out)"
   ]
  },
  {
   "cell_type": "code",
   "execution_count": null,
   "metadata": {},
   "outputs": [],
   "source": []
  }
 ],
 "metadata": {
  "kernelspec": {
   "display_name": "Python 3",
   "language": "python",
   "name": "python3"
  },
  "language_info": {
   "codemirror_mode": {
    "name": "ipython",
    "version": 3
   },
   "file_extension": ".py",
   "mimetype": "text/x-python",
   "name": "python",
   "nbconvert_exporter": "python",
   "pygments_lexer": "ipython3",
   "version": "3.7.6"
  }
 },
 "nbformat": 4,
 "nbformat_minor": 4
}
