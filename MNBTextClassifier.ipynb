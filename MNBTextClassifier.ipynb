{
 "cells": [
  {
   "cell_type": "code",
   "execution_count": 1,
   "metadata": {},
   "outputs": [],
   "source": [
    "#import standard things\n",
    "import pandas as pd\n",
    "import numpy as np\n",
    "import seaborn as sns\n",
    "import matplotlib.pyplot as plt\n",
    "%matplotlib inline\n",
    "sns.set() # use seaborn plotting style\n",
    "\n",
    "#import file/os things\n",
    "from pathlib import Path\n",
    "import pickle\n",
    "import codecs\n",
    "\n",
    "#import data science things\n",
    "import nltk\n",
    "import nltk.data\n",
    "from nltk.corpus import stopwords\n",
    "from nltk.tokenize import word_tokenize\n",
    "from nltk.stem.porter import PorterStemmer\n",
    "from sklearn.model_selection import train_test_split\n",
    "\n",
    "#import wordcloud for silly visualization\n",
    "from wordcloud import WordCloud\n",
    "\n",
    "#import for Tfidf Vectorizer\n",
    "\n",
    "#import for preprocessing stuff\n",
    "from nltk import pos_tag\n",
    "from nltk.corpus import stopwords\n",
    "from nltk.stem import WordNetLemmatizer\n",
    "from sklearn.preprocessing import LabelEncoder\n",
    "from collections import defaultdict\n",
    "from nltk.corpus import wordnet as wn\n",
    "from sklearn.feature_extraction.text import TfidfVectorizer\n",
    "from sklearn.feature_extraction.text import CountVectorizer\n",
    "from sklearn.feature_extraction.text import TfidfTransformer\n",
    "\n",
    "#import for models for selection\n",
    "from sklearn.naive_bayes import MultinomialNB\n",
    "from sklearn import model_selection, naive_bayes, svm\n",
    "\n",
    "#import for making the pipeline\n",
    "from sklearn.pipeline import make_pipeline\n",
    "\n",
    "#import for getting stats and stuff\n",
    "from sklearn.metrics import confusion_matrix, accuracy_score, classification_report\n",
    "\n",
    "#Setup data directory variable for global use\n",
    "data_dir = Path.home() / \"Desktop\" / \"bah-intermediate\" / \"CAPSTONE\" / \"data\"\n",
    "test_data = Path.home() / \"Desktop\" / \"bah-intermediate\" / \"CAPSTONE\" / \"test_data\""
   ]
  },
  {
   "cell_type": "code",
   "execution_count": 2,
   "metadata": {},
   "outputs": [],
   "source": [
    "def make_prediction(text, model, df):\n",
    "    topics = df.topic.unique()\n",
    "    prediction = model.predict([text])\n",
    "    print(prediction-1)\n",
    "    return topics[prediction-1]"
   ]
  },
  {
   "cell_type": "code",
   "execution_count": 3,
   "metadata": {},
   "outputs": [
    {
     "data": {
      "text/html": [
       "<div>\n",
       "<style scoped>\n",
       "    .dataframe tbody tr th:only-of-type {\n",
       "        vertical-align: middle;\n",
       "    }\n",
       "\n",
       "    .dataframe tbody tr th {\n",
       "        vertical-align: top;\n",
       "    }\n",
       "\n",
       "    .dataframe thead th {\n",
       "        text-align: right;\n",
       "    }\n",
       "</style>\n",
       "<table border=\"1\" class=\"dataframe\">\n",
       "  <thead>\n",
       "    <tr style=\"text-align: right;\">\n",
       "      <th></th>\n",
       "      <th>text</th>\n",
       "      <th>title</th>\n",
       "      <th>topic</th>\n",
       "      <th>tokens</th>\n",
       "      <th>stemmed_list</th>\n",
       "      <th>stemmed</th>\n",
       "      <th>lemmed_list</th>\n",
       "      <th>lemmed</th>\n",
       "      <th>word_count</th>\n",
       "      <th>target</th>\n",
       "    </tr>\n",
       "  </thead>\n",
       "  <tbody>\n",
       "    <tr>\n",
       "      <th>0</th>\n",
       "      <td>Ad sales boost Time Warner profit\\n\\nQuarterly...</td>\n",
       "      <td>Ad sales boost Time Warner profit</td>\n",
       "      <td>business</td>\n",
       "      <td>[ad, sales, boost, time, warner, profit, quart...</td>\n",
       "      <td>[sale, boost, time, warner, profit, quarterli,...</td>\n",
       "      <td>sale boost time warner profit quarterli profit...</td>\n",
       "      <td>[sale, boost, time, warner, profit, quarterly,...</td>\n",
       "      <td>sale boost time warner profit quarterly profit...</td>\n",
       "      <td>221</td>\n",
       "      <td>1</td>\n",
       "    </tr>\n",
       "    <tr>\n",
       "      <th>1</th>\n",
       "      <td>Dollar gains on Greenspan speech\\n\\nThe dollar...</td>\n",
       "      <td>Dollar gains on Greenspan speech</td>\n",
       "      <td>business</td>\n",
       "      <td>[dollar, gains, on, greenspan, speech, the, do...</td>\n",
       "      <td>[dollar, gain, greenspan, speech, dollar, hit,...</td>\n",
       "      <td>dollar gain greenspan speech dollar hit highes...</td>\n",
       "      <td>[dollar, gain, greenspan, speech, dollar, hit,...</td>\n",
       "      <td>dollar gain greenspan speech dollar hit high l...</td>\n",
       "      <td>212</td>\n",
       "      <td>1</td>\n",
       "    </tr>\n",
       "    <tr>\n",
       "      <th>2</th>\n",
       "      <td>Yukos unit buyer faces loan claim\\n\\nThe owner...</td>\n",
       "      <td>Yukos unit buyer faces loan claim</td>\n",
       "      <td>business</td>\n",
       "      <td>[yukos, unit, buyer, faces, loan, claim, the, ...</td>\n",
       "      <td>[yuko, unit, buyer, face, loan, claim, owner, ...</td>\n",
       "      <td>yuko unit buyer face loan claim owner embattl ...</td>\n",
       "      <td>[yukos, unit, buyer, face, loan, claim, owner,...</td>\n",
       "      <td>yukos unit buyer face loan claim owner embattl...</td>\n",
       "      <td>149</td>\n",
       "      <td>1</td>\n",
       "    </tr>\n",
       "    <tr>\n",
       "      <th>3</th>\n",
       "      <td>High fuel prices hit BA's profits\\n\\nBritish A...</td>\n",
       "      <td>High fuel prices hit BA's profits</td>\n",
       "      <td>business</td>\n",
       "      <td>[high, fuel, prices, hit, ba, 's, profits, bri...</td>\n",
       "      <td>[high, fuel, price, hit, profit, british, airw...</td>\n",
       "      <td>high fuel price hit profit british airway blam...</td>\n",
       "      <td>[high, fuel, price, hit, profit, british, airw...</td>\n",
       "      <td>high fuel price hit profit british airway blam...</td>\n",
       "      <td>216</td>\n",
       "      <td>1</td>\n",
       "    </tr>\n",
       "    <tr>\n",
       "      <th>4</th>\n",
       "      <td>Pernod takeover talk lifts Domecq\\n\\nShares in...</td>\n",
       "      <td>Pernod takeover talk lifts Domecq</td>\n",
       "      <td>business</td>\n",
       "      <td>[pernod, takeover, talk, lifts, domecq, shares...</td>\n",
       "      <td>[pernod, takeov, talk, lift, domecq, share, dr...</td>\n",
       "      <td>pernod takeov talk lift domecq share drink foo...</td>\n",
       "      <td>[pernod, takeover, talk, lift, domecq, share, ...</td>\n",
       "      <td>pernod takeover talk lift domecq share drink f...</td>\n",
       "      <td>152</td>\n",
       "      <td>1</td>\n",
       "    </tr>\n",
       "  </tbody>\n",
       "</table>\n",
       "</div>"
      ],
      "text/plain": [
       "                                                text  \\\n",
       "0  Ad sales boost Time Warner profit\\n\\nQuarterly...   \n",
       "1  Dollar gains on Greenspan speech\\n\\nThe dollar...   \n",
       "2  Yukos unit buyer faces loan claim\\n\\nThe owner...   \n",
       "3  High fuel prices hit BA's profits\\n\\nBritish A...   \n",
       "4  Pernod takeover talk lifts Domecq\\n\\nShares in...   \n",
       "\n",
       "                               title     topic  \\\n",
       "0  Ad sales boost Time Warner profit  business   \n",
       "1   Dollar gains on Greenspan speech  business   \n",
       "2  Yukos unit buyer faces loan claim  business   \n",
       "3  High fuel prices hit BA's profits  business   \n",
       "4  Pernod takeover talk lifts Domecq  business   \n",
       "\n",
       "                                              tokens  \\\n",
       "0  [ad, sales, boost, time, warner, profit, quart...   \n",
       "1  [dollar, gains, on, greenspan, speech, the, do...   \n",
       "2  [yukos, unit, buyer, faces, loan, claim, the, ...   \n",
       "3  [high, fuel, prices, hit, ba, 's, profits, bri...   \n",
       "4  [pernod, takeover, talk, lifts, domecq, shares...   \n",
       "\n",
       "                                        stemmed_list  \\\n",
       "0  [sale, boost, time, warner, profit, quarterli,...   \n",
       "1  [dollar, gain, greenspan, speech, dollar, hit,...   \n",
       "2  [yuko, unit, buyer, face, loan, claim, owner, ...   \n",
       "3  [high, fuel, price, hit, profit, british, airw...   \n",
       "4  [pernod, takeov, talk, lift, domecq, share, dr...   \n",
       "\n",
       "                                             stemmed  \\\n",
       "0  sale boost time warner profit quarterli profit...   \n",
       "1  dollar gain greenspan speech dollar hit highes...   \n",
       "2  yuko unit buyer face loan claim owner embattl ...   \n",
       "3  high fuel price hit profit british airway blam...   \n",
       "4  pernod takeov talk lift domecq share drink foo...   \n",
       "\n",
       "                                         lemmed_list  \\\n",
       "0  [sale, boost, time, warner, profit, quarterly,...   \n",
       "1  [dollar, gain, greenspan, speech, dollar, hit,...   \n",
       "2  [yukos, unit, buyer, face, loan, claim, owner,...   \n",
       "3  [high, fuel, price, hit, profit, british, airw...   \n",
       "4  [pernod, takeover, talk, lift, domecq, share, ...   \n",
       "\n",
       "                                              lemmed  word_count  target  \n",
       "0  sale boost time warner profit quarterly profit...         221       1  \n",
       "1  dollar gain greenspan speech dollar hit high l...         212       1  \n",
       "2  yukos unit buyer face loan claim owner embattl...         149       1  \n",
       "3  high fuel price hit profit british airway blam...         216       1  \n",
       "4  pernod takeover talk lift domecq share drink f...         152       1  "
      ]
     },
     "execution_count": 3,
     "metadata": {},
     "output_type": "execute_result"
    }
   ],
   "source": [
    "df = pickle.load(open(data_dir / 'bbc_df_trimmed.pickle', 'rb'))\n",
    "\n",
    "df['target'] = df.topic.map({'business':1, 'sport':2, 'politics':3, 'tech':4, 'entertainment':5})\n",
    "\n",
    "df.head()"
   ]
  },
  {
   "cell_type": "code",
   "execution_count": 4,
   "metadata": {},
   "outputs": [],
   "source": [
    "np.random.seed(42)"
   ]
  },
  {
   "cell_type": "markdown",
   "metadata": {},
   "source": [
    "# Multinomial Naive Bayse Classifier Pipeline with Tfidf Vectorizer"
   ]
  },
  {
   "cell_type": "code",
   "execution_count": 5,
   "metadata": {},
   "outputs": [],
   "source": [
    "def mnb_pipeline(text_list, target_array, topic_list):\n",
    "    # Build the model\n",
    "    model = make_pipeline(TfidfVectorizer(), MultinomialNB())\n",
    "\n",
    "    train_data, test_data, train_targets, test_targets = train_test_split(text_list, \n",
    "                                                                          target_array,\n",
    "                                                                          test_size=0.3,\n",
    "                                                                          random_state=42)\n",
    "\n",
    "    print(\"We have {} unique classes\".format(len(topic_list)))\n",
    "    print(\"We have {} training samples\".format(len(train_data)))\n",
    "    print(\"We have {} test samples\".format(len(test_data)))\n",
    "\n",
    "    # Train the model using the training data\n",
    "    model.fit(train_data, train_targets)\n",
    "\n",
    "    # Predict the categories of the test data\n",
    "    predicted_categories = model.predict(test_data)\n",
    "\n",
    "    # plot the confusion matrix\n",
    "    mat = confusion_matrix(test_targets, predicted_categories)\n",
    "\n",
    "    sns.heatmap(mat.T, square = True, annot=True, fmt = \"d\", \n",
    "                xticklabels=['business', 'sport', 'politics', 'tech', 'entertainment'],\n",
    "                yticklabels=['business', 'sport', 'politics', 'tech', 'entertainment'])\n",
    "\n",
    "    plt.xlabel(\"true labels\")\n",
    "    plt.ylabel(\"predicted label\")\n",
    "    plt.show()\n",
    "\n",
    "    print(\"The accuracy is {}\".format(accuracy_score(test_targets, predicted_categories)))\n",
    "    return model"
   ]
  },
  {
   "cell_type": "markdown",
   "metadata": {},
   "source": [
    "# Multinomial_NB Prediction stuff"
   ]
  },
  {
   "cell_type": "code",
   "execution_count": 6,
   "metadata": {},
   "outputs": [
    {
     "name": "stdout",
     "output_type": "stream",
     "text": [
      "We have 5 unique classes\n",
      "We have 1540 training samples\n",
      "We have 660 test samples\n"
     ]
    },
    {
     "data": {
      "image/png": "[encoded data removed]",
      "text/plain": [
       "<Figure size 432x288 with 2 Axes>"
      ]
     },
     "metadata": {},
     "output_type": "display_data"
    },
    {
     "name": "stdout",
     "output_type": "stream",
     "text": [
      "The accuracy is 0.9424242424242424\n",
      "We have 5 unique classes\n",
      "We have 1540 training samples\n",
      "We have 660 test samples\n"
     ]
    },
    {
     "data": {
      "image/png": "[encoded data removed]",
      "text/plain": [
       "<Figure size 432x288 with 2 Axes>"
      ]
     },
     "metadata": {},
     "output_type": "display_data"
    },
    {
     "name": "stdout",
     "output_type": "stream",
     "text": [
      "The accuracy is 0.9621212121212122\n",
      "We have 5 unique classes\n",
      "We have 1540 training samples\n",
      "We have 660 test samples\n"
     ]
    },
    {
     "data": {
      "image/png": "[encoded data removed]",
      "text/plain": [
       "<Figure size 432x288 with 2 Axes>"
      ]
     },
     "metadata": {},
     "output_type": "display_data"
    },
    {
     "name": "stdout",
     "output_type": "stream",
     "text": [
      "The accuracy is 0.9621212121212122\n"
     ]
    }
   ],
   "source": [
    "model_raw = mnb_pipeline(df.text.to_list(), df.target.to_numpy(), df.topic.unique())\n",
    "\n",
    "model_stemmed = mnb_pipeline(df.stemmed.to_list(), df.target.to_numpy(), df.topic.unique())\n",
    "\n",
    "model_lemmed = mnb_pipeline(df.lemmed.to_list(), df.target.to_numpy(), df.topic.unique())"
   ]
  },
  {
   "cell_type": "code",
   "execution_count": null,
   "metadata": {},
   "outputs": [],
   "source": [
    "with codecs.open(test_data / 'test_article1.txt', 'r', encoding='utf-8', errors='ignore') as f:\n",
    "    text = f.read()\n",
    "\n",
    "print(\"Raw model prediction: \", \n",
    "      make_prediction(text_clean, model_raw, df),\n",
    "      \"\\nActual topic: Politics\")\n",
    "\n",
    "print(\"Stemmed model prediction: \", \n",
    "      make_prediction(text, model_stemmed, df),\n",
    "      \"\\nActual topic: Politics\")\n",
    "\n",
    "print(\"Lemmatized model prediction: \", \n",
    "      make_prediction(text, model_lemmed, df),\n",
    "      \"\\nActual topic: Politics\")"
   ]
  },
  {
   "cell_type": "code",
   "execution_count": null,
   "metadata": {},
   "outputs": [],
   "source": [
    "with codecs.open(test_data / 'test_article2.txt', 'r', encoding='utf-8', errors='ignore') as f:\n",
    "    text = f.read()\n",
    "\n",
    "print(\"Raw model prediction: \", \n",
    "      make_prediction(text_clean, model_raw, df),\n",
    "      \"\\nActual topic: Politics\")\n",
    "\n",
    "print(\"Stemmed model prediction: \", \n",
    "      make_prediction(text, model_stemmed, df),\n",
    "      \"\\nActual topic: Politics\")\n",
    "\n",
    "print(\"Lemmatized model prediction: \", \n",
    "      make_prediction(text, model_lemmed, df),\n",
    "      \"\\nActual topic: Politics\")"
   ]
  },
  {
   "cell_type": "code",
   "execution_count": 14,
   "metadata": {},
   "outputs": [
    {
     "name": "stdout",
     "output_type": "stream",
     "text": [
      "[1]\n",
      "['entertainment']\n"
     ]
    }
   ],
   "source": [
    "my_text = 'drugs'\n",
    "print(make_prediction(my_text, model_raw, df))"
   ]
  },
  {
   "cell_type": "code",
   "execution_count": 10,
   "metadata": {},
   "outputs": [
    {
     "name": "stdout",
     "output_type": "stream",
     "text": [
      "[4]\n",
      "['tech']\n"
     ]
    }
   ],
   "source": [
    "my_text2 = 'sex drugs rock and roll'\n",
    "print(make_prediction(my_text2, model_stemmed, df))"
   ]
  },
  {
   "cell_type": "markdown",
   "metadata": {},
   "source": [
    "# BREAK BREAK"
   ]
  },
  {
   "cell_type": "code",
   "execution_count": null,
   "metadata": {},
   "outputs": [],
   "source": [
    "cv = CountVectorizer()"
   ]
  },
  {
   "cell_type": "code",
   "execution_count": null,
   "metadata": {},
   "outputs": [],
   "source": [
    "word_count_vectors = cv.fit_transform(list(df.text_clean))\n",
    "word_count_array = word_count_vectors.toarray()"
   ]
  },
  {
   "cell_type": "code",
   "execution_count": null,
   "metadata": {},
   "outputs": [],
   "source": [
    "print(word_count_vectors.shape, '\\n', word_count_array)"
   ]
  },
  {
   "cell_type": "code",
   "execution_count": null,
   "metadata": {},
   "outputs": [],
   "source": [
    "print(cv.get_feature_names()[0:5])"
   ]
  },
  {
   "cell_type": "code",
   "execution_count": null,
   "metadata": {},
   "outputs": [],
   "source": [
    "dtm_df = pd.DataFrame(word_count_array, columns=cv.get_feature_names())\n",
    "dtm_df.head()"
   ]
  },
  {
   "cell_type": "code",
   "execution_count": null,
   "metadata": {},
   "outputs": [],
   "source": [
    "corpus_freq_dist = dtm_df.sum().to_dict()\n",
    "sorted_list = sorted(corpus_freq_dist.items(), reverse=True, key=lambda kv: kv[1])\n",
    "dict(sorted_list[:10])"
   ]
  },
  {
   "cell_type": "code",
   "execution_count": null,
   "metadata": {},
   "outputs": [],
   "source": [
    "vectors_train, vectors_test, topics_train, topics_test = train_test_split(word_count_array, list(df.topic))"
   ]
  },
  {
   "cell_type": "code",
   "execution_count": null,
   "metadata": {},
   "outputs": [],
   "source": [
    "nbclassifier = GaussianNB()\n",
    "nbclassifier.fit(vectors_train, topics_train)"
   ]
  },
  {
   "cell_type": "code",
   "execution_count": null,
   "metadata": {},
   "outputs": [],
   "source": [
    "# Predict with the testing set\n",
    "topics_pred = nbclassifier.predict(vectors_test)\n",
    "\n",
    "# ...and measure the accuracy of the results\n",
    "print(classification_report(topics_test, topics_pred))"
   ]
  },
  {
   "cell_type": "code",
   "execution_count": null,
   "metadata": {},
   "outputs": [],
   "source": [
    "from sklearn import metrics\n",
    "\n",
    "# Model Accuracy, how often is the classifier correct?\n",
    "print(\"Accuracy:\", metrics.accuracy_score(topics_test, topics_pred))"
   ]
  }
 ],
 "metadata": {
  "kernelspec": {
   "display_name": "Python 3",
   "language": "python",
   "name": "python3"
  },
  "language_info": {
   "codemirror_mode": {
    "name": "ipython",
    "version": 3
   },
   "file_extension": ".py",
   "mimetype": "text/x-python",
   "name": "python",
   "nbconvert_exporter": "python",
   "pygments_lexer": "ipython3",
   "version": "3.8.5"
  }
 },
 "nbformat": 4,
 "nbformat_minor": 4
}
